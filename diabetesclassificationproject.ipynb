{
 "cells": [
  {
   "cell_type": "markdown",
   "id": "ebf482f6",
   "metadata": {
    "id": "kDh4UXEhYO6d",
    "papermill": {
     "duration": 0.038183,
     "end_time": "2022-03-16T09:27:16.408699",
     "exception": false,
     "start_time": "2022-03-16T09:27:16.370516",
     "status": "completed"
    },
    "tags": []
   },
   "source": [
    "Contents:\n",
    "\n",
    "* Introduction\n",
    "* Import Librarys\n",
    "* Load DataSet\n",
    "* Data Analysis\n",
    "* Data Preprocessing\n",
    "* Train Test Split\n",
    "* Models Training\n",
    "* Evaluation Models"
   ]
  },
  {
   "cell_type": "markdown",
   "id": "b7de89a7",
   "metadata": {
    "id": "9xW30HhUZjFy",
    "papermill": {
     "duration": 0.033936,
     "end_time": "2022-03-16T09:27:16.479103",
     "exception": false,
     "start_time": "2022-03-16T09:27:16.445167",
     "status": "completed"
    },
    "tags": []
   },
   "source": [
    "# Hi everyone!\n",
    "\n",
    "Thanks for your attention.\n",
    "\n",
    "**In this project, I work with the data of diabetes.**\n",
    "\n",
    "I want to **predict** that a **person** **has diabetes** or **not**\n",
    "\n",
    "So we have **binary Classification** problem\n",
    "\n",
    "I hope it is useful\n",
    "\n",
    "**Let's Go**....."
   ]
  },
  {
   "cell_type": "markdown",
   "id": "195489fb",
   "metadata": {
    "id": "QOgF5pFRemAg",
    "papermill": {
     "duration": 0.033468,
     "end_time": "2022-03-16T09:27:16.546758",
     "exception": false,
     "start_time": "2022-03-16T09:27:16.513290",
     "status": "completed"
    },
    "tags": []
   },
   "source": [
    "# ***Import Librarys***"
   ]
  },
  {
   "cell_type": "code",
   "execution_count": 1,
   "id": "debb01aa",
   "metadata": {
    "execution": {
     "iopub.execute_input": "2022-03-16T09:27:16.623722Z",
     "iopub.status.busy": "2022-03-16T09:27:16.623146Z",
     "iopub.status.idle": "2022-03-16T09:27:18.194569Z",
     "shell.execute_reply": "2022-03-16T09:27:18.193967Z",
     "shell.execute_reply.started": "2022-03-16T08:06:43.578645Z"
    },
    "id": "R4-fVlsXdoqo",
    "papermill": {
     "duration": 1.614158,
     "end_time": "2022-03-16T09:27:18.194732",
     "exception": false,
     "start_time": "2022-03-16T09:27:16.580574",
     "status": "completed"
    },
    "tags": []
   },
   "outputs": [],
   "source": [
    "import pandas as pd\n",
    "import numpy as np\n",
    "import matplotlib.pyplot as plt\n",
    "import seaborn as sns\n",
    "\n",
    "## For Preprocessing\n",
    "from sklearn.preprocessing import StandardScaler\n",
    "\n",
    "####################\n",
    "from sklearn.model_selection import train_test_split\n",
    "from sklearn.model_selection import cross_val_score\n",
    "from sklearn.model_selection import GridSearchCV\n",
    "\n",
    "\n",
    "## Machine Learning Algorithm\n",
    "from sklearn.svm import SVC\n",
    "from sklearn.ensemble import RandomForestClassifier\n",
    "from sklearn.ensemble import GradientBoostingClassifier\n",
    "from xgboost import XGBClassifier\n",
    "\n",
    "## To evaluate models\n",
    "from sklearn.metrics import accuracy_score\n",
    "from sklearn.metrics import classification_report\n",
    "from sklearn.metrics import confusion_matrix"
   ]
  },
  {
   "cell_type": "markdown",
   "id": "fed5faa4",
   "metadata": {
    "id": "6cDEuCUWe69g",
    "papermill": {
     "duration": 0.033173,
     "end_time": "2022-03-16T09:27:18.262606",
     "exception": false,
     "start_time": "2022-03-16T09:27:18.229433",
     "status": "completed"
    },
    "tags": []
   },
   "source": [
    "# ***Load DataSet***"
   ]
  },
  {
   "cell_type": "code",
   "execution_count": 2,
   "id": "437c5da8",
   "metadata": {
    "execution": {
     "iopub.execute_input": "2022-03-16T09:27:18.335290Z",
     "iopub.status.busy": "2022-03-16T09:27:18.334670Z",
     "iopub.status.idle": "2022-03-16T09:27:18.349629Z",
     "shell.execute_reply": "2022-03-16T09:27:18.350188Z",
     "shell.execute_reply.started": "2022-03-16T08:04:32.801058Z"
    },
    "id": "tbjt3p5FetTV",
    "papermill": {
     "duration": 0.053793,
     "end_time": "2022-03-16T09:27:18.350370",
     "exception": false,
     "start_time": "2022-03-16T09:27:18.296577",
     "status": "completed"
    },
    "tags": []
   },
   "outputs": [],
   "source": [
    "data = pd.read_csv('../input/diabetes-data-set/diabetes.csv')"
   ]
  },
  {
   "cell_type": "markdown",
   "id": "effe0abc",
   "metadata": {
    "id": "w3DLgGaFfacZ",
    "papermill": {
     "duration": 0.03361,
     "end_time": "2022-03-16T09:27:18.418451",
     "exception": false,
     "start_time": "2022-03-16T09:27:18.384841",
     "status": "completed"
    },
    "tags": []
   },
   "source": [
    "# ***Data Analysis***\n",
    "\n",
    "**In this section, we will learn more about data**"
   ]
  },
  {
   "cell_type": "code",
   "execution_count": 3,
   "id": "1b65a692",
   "metadata": {
    "execution": {
     "iopub.execute_input": "2022-03-16T09:27:18.489886Z",
     "iopub.status.busy": "2022-03-16T09:27:18.489269Z",
     "iopub.status.idle": "2022-03-16T09:27:18.510459Z",
     "shell.execute_reply": "2022-03-16T09:27:18.510948Z",
     "shell.execute_reply.started": "2022-03-16T08:04:32.893716Z"
    },
    "id": "xQTApvp4fApw",
    "outputId": "4b9f52ed-e883-4bc6-d334-dd0d63c2b36a",
    "papermill": {
     "duration": 0.058659,
     "end_time": "2022-03-16T09:27:18.511117",
     "exception": false,
     "start_time": "2022-03-16T09:27:18.452458",
     "status": "completed"
    },
    "tags": []
   },
   "outputs": [
    {
     "data": {
      "text/html": [
       "<div>\n",
       "<style scoped>\n",
       "    .dataframe tbody tr th:only-of-type {\n",
       "        vertical-align: middle;\n",
       "    }\n",
       "\n",
       "    .dataframe tbody tr th {\n",
       "        vertical-align: top;\n",
       "    }\n",
       "\n",
       "    .dataframe thead th {\n",
       "        text-align: right;\n",
       "    }\n",
       "</style>\n",
       "<table border=\"1\" class=\"dataframe\">\n",
       "  <thead>\n",
       "    <tr style=\"text-align: right;\">\n",
       "      <th></th>\n",
       "      <th>Pregnancies</th>\n",
       "      <th>Glucose</th>\n",
       "      <th>BloodPressure</th>\n",
       "      <th>SkinThickness</th>\n",
       "      <th>Insulin</th>\n",
       "      <th>BMI</th>\n",
       "      <th>DiabetesPedigreeFunction</th>\n",
       "      <th>Age</th>\n",
       "      <th>Outcome</th>\n",
       "    </tr>\n",
       "  </thead>\n",
       "  <tbody>\n",
       "    <tr>\n",
       "      <th>0</th>\n",
       "      <td>6</td>\n",
       "      <td>148</td>\n",
       "      <td>72</td>\n",
       "      <td>35</td>\n",
       "      <td>0</td>\n",
       "      <td>33.6</td>\n",
       "      <td>0.627</td>\n",
       "      <td>50</td>\n",
       "      <td>1</td>\n",
       "    </tr>\n",
       "    <tr>\n",
       "      <th>1</th>\n",
       "      <td>1</td>\n",
       "      <td>85</td>\n",
       "      <td>66</td>\n",
       "      <td>29</td>\n",
       "      <td>0</td>\n",
       "      <td>26.6</td>\n",
       "      <td>0.351</td>\n",
       "      <td>31</td>\n",
       "      <td>0</td>\n",
       "    </tr>\n",
       "    <tr>\n",
       "      <th>2</th>\n",
       "      <td>8</td>\n",
       "      <td>183</td>\n",
       "      <td>64</td>\n",
       "      <td>0</td>\n",
       "      <td>0</td>\n",
       "      <td>23.3</td>\n",
       "      <td>0.672</td>\n",
       "      <td>32</td>\n",
       "      <td>1</td>\n",
       "    </tr>\n",
       "    <tr>\n",
       "      <th>3</th>\n",
       "      <td>1</td>\n",
       "      <td>89</td>\n",
       "      <td>66</td>\n",
       "      <td>23</td>\n",
       "      <td>94</td>\n",
       "      <td>28.1</td>\n",
       "      <td>0.167</td>\n",
       "      <td>21</td>\n",
       "      <td>0</td>\n",
       "    </tr>\n",
       "    <tr>\n",
       "      <th>4</th>\n",
       "      <td>0</td>\n",
       "      <td>137</td>\n",
       "      <td>40</td>\n",
       "      <td>35</td>\n",
       "      <td>168</td>\n",
       "      <td>43.1</td>\n",
       "      <td>2.288</td>\n",
       "      <td>33</td>\n",
       "      <td>1</td>\n",
       "    </tr>\n",
       "    <tr>\n",
       "      <th>5</th>\n",
       "      <td>5</td>\n",
       "      <td>116</td>\n",
       "      <td>74</td>\n",
       "      <td>0</td>\n",
       "      <td>0</td>\n",
       "      <td>25.6</td>\n",
       "      <td>0.201</td>\n",
       "      <td>30</td>\n",
       "      <td>0</td>\n",
       "    </tr>\n",
       "    <tr>\n",
       "      <th>6</th>\n",
       "      <td>3</td>\n",
       "      <td>78</td>\n",
       "      <td>50</td>\n",
       "      <td>32</td>\n",
       "      <td>88</td>\n",
       "      <td>31.0</td>\n",
       "      <td>0.248</td>\n",
       "      <td>26</td>\n",
       "      <td>1</td>\n",
       "    </tr>\n",
       "    <tr>\n",
       "      <th>7</th>\n",
       "      <td>10</td>\n",
       "      <td>115</td>\n",
       "      <td>0</td>\n",
       "      <td>0</td>\n",
       "      <td>0</td>\n",
       "      <td>35.3</td>\n",
       "      <td>0.134</td>\n",
       "      <td>29</td>\n",
       "      <td>0</td>\n",
       "    </tr>\n",
       "    <tr>\n",
       "      <th>8</th>\n",
       "      <td>2</td>\n",
       "      <td>197</td>\n",
       "      <td>70</td>\n",
       "      <td>45</td>\n",
       "      <td>543</td>\n",
       "      <td>30.5</td>\n",
       "      <td>0.158</td>\n",
       "      <td>53</td>\n",
       "      <td>1</td>\n",
       "    </tr>\n",
       "    <tr>\n",
       "      <th>9</th>\n",
       "      <td>8</td>\n",
       "      <td>125</td>\n",
       "      <td>96</td>\n",
       "      <td>0</td>\n",
       "      <td>0</td>\n",
       "      <td>0.0</td>\n",
       "      <td>0.232</td>\n",
       "      <td>54</td>\n",
       "      <td>1</td>\n",
       "    </tr>\n",
       "  </tbody>\n",
       "</table>\n",
       "</div>"
      ],
      "text/plain": [
       "   Pregnancies  Glucose  BloodPressure  SkinThickness  Insulin   BMI  \\\n",
       "0            6      148             72             35        0  33.6   \n",
       "1            1       85             66             29        0  26.6   \n",
       "2            8      183             64              0        0  23.3   \n",
       "3            1       89             66             23       94  28.1   \n",
       "4            0      137             40             35      168  43.1   \n",
       "5            5      116             74              0        0  25.6   \n",
       "6            3       78             50             32       88  31.0   \n",
       "7           10      115              0              0        0  35.3   \n",
       "8            2      197             70             45      543  30.5   \n",
       "9            8      125             96              0        0   0.0   \n",
       "\n",
       "   DiabetesPedigreeFunction  Age  Outcome  \n",
       "0                     0.627   50        1  \n",
       "1                     0.351   31        0  \n",
       "2                     0.672   32        1  \n",
       "3                     0.167   21        0  \n",
       "4                     2.288   33        1  \n",
       "5                     0.201   30        0  \n",
       "6                     0.248   26        1  \n",
       "7                     0.134   29        0  \n",
       "8                     0.158   53        1  \n",
       "9                     0.232   54        1  "
      ]
     },
     "execution_count": 3,
     "metadata": {},
     "output_type": "execute_result"
    }
   ],
   "source": [
    "# Display the first 10 rows of data\n",
    "data.head(10)"
   ]
  },
  {
   "cell_type": "code",
   "execution_count": 4,
   "id": "fa253ac6",
   "metadata": {
    "execution": {
     "iopub.execute_input": "2022-03-16T09:27:18.583599Z",
     "iopub.status.busy": "2022-03-16T09:27:18.582981Z",
     "iopub.status.idle": "2022-03-16T09:27:18.589030Z",
     "shell.execute_reply": "2022-03-16T09:27:18.588499Z",
     "shell.execute_reply.started": "2022-03-16T08:04:32.972539Z"
    },
    "id": "kztLy9b9fCOp",
    "outputId": "c849d069-3559-49e1-e2cd-b5e16b73f491",
    "papermill": {
     "duration": 0.043455,
     "end_time": "2022-03-16T09:27:18.589178",
     "exception": false,
     "start_time": "2022-03-16T09:27:18.545723",
     "status": "completed"
    },
    "tags": []
   },
   "outputs": [
    {
     "name": "stdout",
     "output_type": "stream",
     "text": [
      "Rows-->  768\n",
      "Columns-->  9\n"
     ]
    }
   ],
   "source": [
    "# The number of rows and columns\n",
    "rows, columns = data.shape\n",
    "print('Rows--> ', rows)\n",
    "print('Columns--> ', columns)"
   ]
  },
  {
   "cell_type": "code",
   "execution_count": 5,
   "id": "481a7d31",
   "metadata": {
    "execution": {
     "iopub.execute_input": "2022-03-16T09:27:18.662673Z",
     "iopub.status.busy": "2022-03-16T09:27:18.661731Z",
     "iopub.status.idle": "2022-03-16T09:27:18.690591Z",
     "shell.execute_reply": "2022-03-16T09:27:18.691202Z",
     "shell.execute_reply.started": "2022-03-16T08:04:32.984346Z"
    },
    "id": "qFUi-RKIfW3M",
    "outputId": "6388b72c-d0de-4277-ddcd-2d9dce8d6e5a",
    "papermill": {
     "duration": 0.06717,
     "end_time": "2022-03-16T09:27:18.691374",
     "exception": false,
     "start_time": "2022-03-16T09:27:18.624204",
     "status": "completed"
    },
    "tags": []
   },
   "outputs": [
    {
     "name": "stdout",
     "output_type": "stream",
     "text": [
      "<class 'pandas.core.frame.DataFrame'>\n",
      "RangeIndex: 768 entries, 0 to 767\n",
      "Data columns (total 9 columns):\n",
      " #   Column                    Non-Null Count  Dtype  \n",
      "---  ------                    --------------  -----  \n",
      " 0   Pregnancies               768 non-null    int64  \n",
      " 1   Glucose                   768 non-null    int64  \n",
      " 2   BloodPressure             768 non-null    int64  \n",
      " 3   SkinThickness             768 non-null    int64  \n",
      " 4   Insulin                   768 non-null    int64  \n",
      " 5   BMI                       768 non-null    float64\n",
      " 6   DiabetesPedigreeFunction  768 non-null    float64\n",
      " 7   Age                       768 non-null    int64  \n",
      " 8   Outcome                   768 non-null    int64  \n",
      "dtypes: float64(2), int64(7)\n",
      "memory usage: 54.1 KB\n"
     ]
    }
   ],
   "source": [
    "data.info()"
   ]
  },
  {
   "cell_type": "code",
   "execution_count": 6,
   "id": "7e1f4b06",
   "metadata": {
    "execution": {
     "iopub.execute_input": "2022-03-16T09:27:18.765219Z",
     "iopub.status.busy": "2022-03-16T09:27:18.764265Z",
     "iopub.status.idle": "2022-03-16T09:27:18.771883Z",
     "shell.execute_reply": "2022-03-16T09:27:18.772435Z",
     "shell.execute_reply.started": "2022-03-16T08:04:33.003236Z"
    },
    "id": "mUGiWssPfoDl",
    "outputId": "f1a68f49-f99e-479d-ee67-c70a2e22d42d",
    "papermill": {
     "duration": 0.045859,
     "end_time": "2022-03-16T09:27:18.772606",
     "exception": false,
     "start_time": "2022-03-16T09:27:18.726747",
     "status": "completed"
    },
    "tags": []
   },
   "outputs": [
    {
     "data": {
      "text/plain": [
       "Pregnancies                 0\n",
       "Glucose                     0\n",
       "BloodPressure               0\n",
       "SkinThickness               0\n",
       "Insulin                     0\n",
       "BMI                         0\n",
       "DiabetesPedigreeFunction    0\n",
       "Age                         0\n",
       "Outcome                     0\n",
       "dtype: int64"
      ]
     },
     "execution_count": 6,
     "metadata": {},
     "output_type": "execute_result"
    }
   ],
   "source": [
    "data.isnull().sum()"
   ]
  },
  {
   "cell_type": "markdown",
   "id": "7af6aca0",
   "metadata": {
    "id": "uGR9d1j4ftAJ",
    "papermill": {
     "duration": 0.034918,
     "end_time": "2022-03-16T09:27:18.842918",
     "exception": false,
     "start_time": "2022-03-16T09:27:18.808000",
     "status": "completed"
    },
    "tags": []
   },
   "source": [
    "**Note**\n",
    "\n",
    "* we don't have any Miss Value"
   ]
  },
  {
   "cell_type": "code",
   "execution_count": 7,
   "id": "34e277a2",
   "metadata": {
    "execution": {
     "iopub.execute_input": "2022-03-16T09:27:18.918169Z",
     "iopub.status.busy": "2022-03-16T09:27:18.917243Z",
     "iopub.status.idle": "2022-03-16T09:27:18.950600Z",
     "shell.execute_reply": "2022-03-16T09:27:18.951126Z",
     "shell.execute_reply.started": "2022-03-16T08:04:33.016008Z"
    },
    "id": "AtGe2k4kfqdN",
    "outputId": "43bea3a7-a714-414d-bab3-2317d48af0ab",
    "papermill": {
     "duration": 0.072941,
     "end_time": "2022-03-16T09:27:18.951294",
     "exception": false,
     "start_time": "2022-03-16T09:27:18.878353",
     "status": "completed"
    },
    "tags": []
   },
   "outputs": [
    {
     "data": {
      "text/html": [
       "<div>\n",
       "<style scoped>\n",
       "    .dataframe tbody tr th:only-of-type {\n",
       "        vertical-align: middle;\n",
       "    }\n",
       "\n",
       "    .dataframe tbody tr th {\n",
       "        vertical-align: top;\n",
       "    }\n",
       "\n",
       "    .dataframe thead th {\n",
       "        text-align: right;\n",
       "    }\n",
       "</style>\n",
       "<table border=\"1\" class=\"dataframe\">\n",
       "  <thead>\n",
       "    <tr style=\"text-align: right;\">\n",
       "      <th></th>\n",
       "      <th>Pregnancies</th>\n",
       "      <th>Glucose</th>\n",
       "      <th>BloodPressure</th>\n",
       "      <th>SkinThickness</th>\n",
       "      <th>Insulin</th>\n",
       "      <th>BMI</th>\n",
       "      <th>DiabetesPedigreeFunction</th>\n",
       "      <th>Age</th>\n",
       "      <th>Outcome</th>\n",
       "    </tr>\n",
       "  </thead>\n",
       "  <tbody>\n",
       "    <tr>\n",
       "      <th>count</th>\n",
       "      <td>768.000000</td>\n",
       "      <td>768.000000</td>\n",
       "      <td>768.000000</td>\n",
       "      <td>768.000000</td>\n",
       "      <td>768.000000</td>\n",
       "      <td>768.000000</td>\n",
       "      <td>768.000000</td>\n",
       "      <td>768.000000</td>\n",
       "      <td>768.000000</td>\n",
       "    </tr>\n",
       "    <tr>\n",
       "      <th>mean</th>\n",
       "      <td>3.845052</td>\n",
       "      <td>120.894531</td>\n",
       "      <td>69.105469</td>\n",
       "      <td>20.536458</td>\n",
       "      <td>79.799479</td>\n",
       "      <td>31.992578</td>\n",
       "      <td>0.471876</td>\n",
       "      <td>33.240885</td>\n",
       "      <td>0.348958</td>\n",
       "    </tr>\n",
       "    <tr>\n",
       "      <th>std</th>\n",
       "      <td>3.369578</td>\n",
       "      <td>31.972618</td>\n",
       "      <td>19.355807</td>\n",
       "      <td>15.952218</td>\n",
       "      <td>115.244002</td>\n",
       "      <td>7.884160</td>\n",
       "      <td>0.331329</td>\n",
       "      <td>11.760232</td>\n",
       "      <td>0.476951</td>\n",
       "    </tr>\n",
       "    <tr>\n",
       "      <th>min</th>\n",
       "      <td>0.000000</td>\n",
       "      <td>0.000000</td>\n",
       "      <td>0.000000</td>\n",
       "      <td>0.000000</td>\n",
       "      <td>0.000000</td>\n",
       "      <td>0.000000</td>\n",
       "      <td>0.078000</td>\n",
       "      <td>21.000000</td>\n",
       "      <td>0.000000</td>\n",
       "    </tr>\n",
       "    <tr>\n",
       "      <th>25%</th>\n",
       "      <td>1.000000</td>\n",
       "      <td>99.000000</td>\n",
       "      <td>62.000000</td>\n",
       "      <td>0.000000</td>\n",
       "      <td>0.000000</td>\n",
       "      <td>27.300000</td>\n",
       "      <td>0.243750</td>\n",
       "      <td>24.000000</td>\n",
       "      <td>0.000000</td>\n",
       "    </tr>\n",
       "    <tr>\n",
       "      <th>50%</th>\n",
       "      <td>3.000000</td>\n",
       "      <td>117.000000</td>\n",
       "      <td>72.000000</td>\n",
       "      <td>23.000000</td>\n",
       "      <td>30.500000</td>\n",
       "      <td>32.000000</td>\n",
       "      <td>0.372500</td>\n",
       "      <td>29.000000</td>\n",
       "      <td>0.000000</td>\n",
       "    </tr>\n",
       "    <tr>\n",
       "      <th>75%</th>\n",
       "      <td>6.000000</td>\n",
       "      <td>140.250000</td>\n",
       "      <td>80.000000</td>\n",
       "      <td>32.000000</td>\n",
       "      <td>127.250000</td>\n",
       "      <td>36.600000</td>\n",
       "      <td>0.626250</td>\n",
       "      <td>41.000000</td>\n",
       "      <td>1.000000</td>\n",
       "    </tr>\n",
       "    <tr>\n",
       "      <th>max</th>\n",
       "      <td>17.000000</td>\n",
       "      <td>199.000000</td>\n",
       "      <td>122.000000</td>\n",
       "      <td>99.000000</td>\n",
       "      <td>846.000000</td>\n",
       "      <td>67.100000</td>\n",
       "      <td>2.420000</td>\n",
       "      <td>81.000000</td>\n",
       "      <td>1.000000</td>\n",
       "    </tr>\n",
       "  </tbody>\n",
       "</table>\n",
       "</div>"
      ],
      "text/plain": [
       "       Pregnancies     Glucose  BloodPressure  SkinThickness     Insulin  \\\n",
       "count   768.000000  768.000000     768.000000     768.000000  768.000000   \n",
       "mean      3.845052  120.894531      69.105469      20.536458   79.799479   \n",
       "std       3.369578   31.972618      19.355807      15.952218  115.244002   \n",
       "min       0.000000    0.000000       0.000000       0.000000    0.000000   \n",
       "25%       1.000000   99.000000      62.000000       0.000000    0.000000   \n",
       "50%       3.000000  117.000000      72.000000      23.000000   30.500000   \n",
       "75%       6.000000  140.250000      80.000000      32.000000  127.250000   \n",
       "max      17.000000  199.000000     122.000000      99.000000  846.000000   \n",
       "\n",
       "              BMI  DiabetesPedigreeFunction         Age     Outcome  \n",
       "count  768.000000                768.000000  768.000000  768.000000  \n",
       "mean    31.992578                  0.471876   33.240885    0.348958  \n",
       "std      7.884160                  0.331329   11.760232    0.476951  \n",
       "min      0.000000                  0.078000   21.000000    0.000000  \n",
       "25%     27.300000                  0.243750   24.000000    0.000000  \n",
       "50%     32.000000                  0.372500   29.000000    0.000000  \n",
       "75%     36.600000                  0.626250   41.000000    1.000000  \n",
       "max     67.100000                  2.420000   81.000000    1.000000  "
      ]
     },
     "execution_count": 7,
     "metadata": {},
     "output_type": "execute_result"
    }
   ],
   "source": [
    "data.describe()"
   ]
  },
  {
   "cell_type": "code",
   "execution_count": 8,
   "id": "fbf28df3",
   "metadata": {
    "execution": {
     "iopub.execute_input": "2022-03-16T09:27:19.033073Z",
     "iopub.status.busy": "2022-03-16T09:27:19.032423Z",
     "iopub.status.idle": "2022-03-16T09:27:19.274366Z",
     "shell.execute_reply": "2022-03-16T09:27:19.273906Z",
     "shell.execute_reply.started": "2022-03-16T08:04:33.15627Z"
    },
    "id": "GejdHUvnf4uZ",
    "outputId": "996e635c-f1fc-43d0-a948-9113f157aab3",
    "papermill": {
     "duration": 0.287316,
     "end_time": "2022-03-16T09:27:19.274503",
     "exception": false,
     "start_time": "2022-03-16T09:27:18.987187",
     "status": "completed"
    },
    "tags": []
   },
   "outputs": [
    {
     "name": "stderr",
     "output_type": "stream",
     "text": [
      "/opt/conda/lib/python3.7/site-packages/seaborn/distributions.py:2619: FutureWarning: `distplot` is a deprecated function and will be removed in a future version. Please adapt your code to use either `displot` (a figure-level function with similar flexibility) or `histplot` (an axes-level function for histograms).\n",
      "  warnings.warn(msg, FutureWarning)\n"
     ]
    },
    {
     "data": {
      "image/png": "[encoded data removed]",
      "text/plain": [
       "<Figure size 720x360 with 1 Axes>"
      ]
     },
     "metadata": {},
     "output_type": "display_data"
    }
   ],
   "source": [
    "plt.style.use('ggplot')\n",
    "plt.figure(figsize=(10, 5))\n",
    "plt.title('Glucose Distribution')\n",
    "sns.distplot(data['Glucose'])\n",
    "plt.show()"
   ]
  },
  {
   "cell_type": "code",
   "execution_count": 9,
   "id": "0a80d7d0",
   "metadata": {
    "execution": {
     "iopub.execute_input": "2022-03-16T09:27:19.353574Z",
     "iopub.status.busy": "2022-03-16T09:27:19.352960Z",
     "iopub.status.idle": "2022-03-16T09:27:19.627362Z",
     "shell.execute_reply": "2022-03-16T09:27:19.626709Z",
     "shell.execute_reply.started": "2022-03-16T08:04:33.491199Z"
    },
    "id": "AfxuZ3JUgNg8",
    "outputId": "28715ada-947d-44a3-9ae6-c7cbcd979c96",
    "papermill": {
     "duration": 0.314921,
     "end_time": "2022-03-16T09:27:19.627496",
     "exception": false,
     "start_time": "2022-03-16T09:27:19.312575",
     "status": "completed"
    },
    "tags": []
   },
   "outputs": [
    {
     "name": "stderr",
     "output_type": "stream",
     "text": [
      "/opt/conda/lib/python3.7/site-packages/seaborn/distributions.py:2619: FutureWarning: `distplot` is a deprecated function and will be removed in a future version. Please adapt your code to use either `displot` (a figure-level function with similar flexibility) or `histplot` (an axes-level function for histograms).\n",
      "  warnings.warn(msg, FutureWarning)\n"
     ]
    },
    {
     "data": {
      "image/png": "[encoded data removed]",
      "text/plain": [
       "<Figure size 720x360 with 1 Axes>"
      ]
     },
     "metadata": {},
     "output_type": "display_data"
    }
   ],
   "source": [
    "plt.style.use('ggplot')\n",
    "plt.figure(figsize=(10, 5))\n",
    "plt.title('BloodPressure Distribution')\n",
    "sns.distplot(data['BloodPressure'])\n",
    "plt.show()"
   ]
  },
  {
   "cell_type": "code",
   "execution_count": 10,
   "id": "7c2942fc",
   "metadata": {
    "execution": {
     "iopub.execute_input": "2022-03-16T09:27:19.730989Z",
     "iopub.status.busy": "2022-03-16T09:27:19.714483Z",
     "iopub.status.idle": "2022-03-16T09:27:19.961591Z",
     "shell.execute_reply": "2022-03-16T09:27:19.961027Z",
     "shell.execute_reply.started": "2022-03-16T08:04:33.890968Z"
    },
    "id": "QbBmw2aAg8Oz",
    "outputId": "f05292c8-72fa-4211-942a-4b3f8cb989ac",
    "papermill": {
     "duration": 0.294431,
     "end_time": "2022-03-16T09:27:19.961722",
     "exception": false,
     "start_time": "2022-03-16T09:27:19.667291",
     "status": "completed"
    },
    "tags": []
   },
   "outputs": [
    {
     "name": "stderr",
     "output_type": "stream",
     "text": [
      "/opt/conda/lib/python3.7/site-packages/seaborn/distributions.py:2619: FutureWarning: `distplot` is a deprecated function and will be removed in a future version. Please adapt your code to use either `displot` (a figure-level function with similar flexibility) or `histplot` (an axes-level function for histograms).\n",
      "  warnings.warn(msg, FutureWarning)\n"
     ]
    },
    {
     "data": {
      "image/png": "[encoded data removed]",
      "text/plain": [
       "<Figure size 720x360 with 1 Axes>"
      ]
     },
     "metadata": {},
     "output_type": "display_data"
    }
   ],
   "source": [
    "plt.style.use('ggplot')\n",
    "plt.figure(figsize=(10, 5))\n",
    "plt.title('Insulin Distribution')\n",
    "sns.distplot(data['Insulin'])\n",
    "plt.show()"
   ]
  },
  {
   "cell_type": "code",
   "execution_count": 11,
   "id": "aaebf7dc",
   "metadata": {
    "execution": {
     "iopub.execute_input": "2022-03-16T09:27:20.058899Z",
     "iopub.status.busy": "2022-03-16T09:27:20.057425Z",
     "iopub.status.idle": "2022-03-16T09:27:20.316283Z",
     "shell.execute_reply": "2022-03-16T09:27:20.315658Z",
     "shell.execute_reply.started": "2022-03-16T08:04:34.220889Z"
    },
    "id": "Bi6Tn6MDhOkd",
    "outputId": "e9233370-f6ac-43f5-9b34-0538aa8bd30e",
    "papermill": {
     "duration": 0.314113,
     "end_time": "2022-03-16T09:27:20.316429",
     "exception": false,
     "start_time": "2022-03-16T09:27:20.002316",
     "status": "completed"
    },
    "tags": []
   },
   "outputs": [
    {
     "name": "stderr",
     "output_type": "stream",
     "text": [
      "/opt/conda/lib/python3.7/site-packages/seaborn/distributions.py:2619: FutureWarning: `distplot` is a deprecated function and will be removed in a future version. Please adapt your code to use either `displot` (a figure-level function with similar flexibility) or `histplot` (an axes-level function for histograms).\n",
      "  warnings.warn(msg, FutureWarning)\n"
     ]
    },
    {
     "data": {
      "image/png": "[encoded data removed]",
      "text/plain": [
       "<Figure size 720x360 with 1 Axes>"
      ]
     },
     "metadata": {},
     "output_type": "display_data"
    }
   ],
   "source": [
    "plt.style.use('ggplot')\n",
    "plt.figure(figsize=(10, 5))\n",
    "plt.title('BMI Distribution')\n",
    "sns.distplot(data['BMI'])\n",
    "plt.show()"
   ]
  },
  {
   "cell_type": "code",
   "execution_count": 12,
   "id": "76fe24ca",
   "metadata": {
    "execution": {
     "iopub.execute_input": "2022-03-16T09:27:20.407696Z",
     "iopub.status.busy": "2022-03-16T09:27:20.406991Z",
     "iopub.status.idle": "2022-03-16T09:27:20.648665Z",
     "shell.execute_reply": "2022-03-16T09:27:20.648199Z",
     "shell.execute_reply.started": "2022-03-16T08:04:34.577784Z"
    },
    "id": "m2_0uz9KhUYg",
    "outputId": "b79c4b48-1e24-43dd-d4ca-da73efefadb8",
    "papermill": {
     "duration": 0.290193,
     "end_time": "2022-03-16T09:27:20.648814",
     "exception": false,
     "start_time": "2022-03-16T09:27:20.358621",
     "status": "completed"
    },
    "tags": []
   },
   "outputs": [
    {
     "name": "stderr",
     "output_type": "stream",
     "text": [
      "/opt/conda/lib/python3.7/site-packages/seaborn/distributions.py:2619: FutureWarning: `distplot` is a deprecated function and will be removed in a future version. Please adapt your code to use either `displot` (a figure-level function with similar flexibility) or `histplot` (an axes-level function for histograms).\n",
      "  warnings.warn(msg, FutureWarning)\n"
     ]
    },
    {
     "data": {
      "image/png": "[encoded data removed]",
      "text/plain": [
       "<Figure size 720x360 with 1 Axes>"
      ]
     },
     "metadata": {},
     "output_type": "display_data"
    }
   ],
   "source": [
    "plt.style.use('ggplot')\n",
    "plt.figure(figsize=(10, 5))\n",
    "plt.title('Diabetes Pedigree Function Distribution')\n",
    "sns.distplot(data['DiabetesPedigreeFunction'])\n",
    "plt.show()"
   ]
  },
  {
   "cell_type": "code",
   "execution_count": 13,
   "id": "0aa46366",
   "metadata": {
    "execution": {
     "iopub.execute_input": "2022-03-16T09:27:20.878733Z",
     "iopub.status.busy": "2022-03-16T09:27:20.740035Z",
     "iopub.status.idle": "2022-03-16T09:27:21.124327Z",
     "shell.execute_reply": "2022-03-16T09:27:21.123660Z",
     "shell.execute_reply.started": "2022-03-16T08:04:35.053591Z"
    },
    "id": "dzdDi_HPhW9J",
    "outputId": "0957d8c1-60a0-4055-bb73-3378499657b4",
    "papermill": {
     "duration": 0.431885,
     "end_time": "2022-03-16T09:27:21.124483",
     "exception": false,
     "start_time": "2022-03-16T09:27:20.692598",
     "status": "completed"
    },
    "tags": []
   },
   "outputs": [
    {
     "name": "stderr",
     "output_type": "stream",
     "text": [
      "/opt/conda/lib/python3.7/site-packages/seaborn/distributions.py:2619: FutureWarning: `distplot` is a deprecated function and will be removed in a future version. Please adapt your code to use either `displot` (a figure-level function with similar flexibility) or `histplot` (an axes-level function for histograms).\n",
      "  warnings.warn(msg, FutureWarning)\n"
     ]
    },
    {
     "data": {
      "image/png": "[encoded data removed]",
      "text/plain": [
       "<Figure size 720x360 with 1 Axes>"
      ]
     },
     "metadata": {},
     "output_type": "display_data"
    }
   ],
   "source": [
    "plt.style.use('ggplot')\n",
    "plt.figure(figsize=(10, 5))\n",
    "plt.title('Age Distribution')\n",
    "sns.distplot(data['Age'])\n",
    "plt.show()"
   ]
  },
  {
   "cell_type": "code",
   "execution_count": 14,
   "id": "410b56f8",
   "metadata": {
    "execution": {
     "iopub.execute_input": "2022-03-16T09:27:21.218239Z",
     "iopub.status.busy": "2022-03-16T09:27:21.217294Z",
     "iopub.status.idle": "2022-03-16T09:27:21.437480Z",
     "shell.execute_reply": "2022-03-16T09:27:21.436755Z",
     "shell.execute_reply.started": "2022-03-16T08:04:35.41124Z"
    },
    "id": "lgtg2kRFhXzJ",
    "outputId": "7f27fdaa-93c4-460b-8297-ff539f64cee4",
    "papermill": {
     "duration": 0.267556,
     "end_time": "2022-03-16T09:27:21.437643",
     "exception": false,
     "start_time": "2022-03-16T09:27:21.170087",
     "status": "completed"
    },
    "tags": []
   },
   "outputs": [
    {
     "name": "stderr",
     "output_type": "stream",
     "text": [
      "/opt/conda/lib/python3.7/site-packages/seaborn/distributions.py:2619: FutureWarning: `distplot` is a deprecated function and will be removed in a future version. Please adapt your code to use either `displot` (a figure-level function with similar flexibility) or `histplot` (an axes-level function for histograms).\n",
      "  warnings.warn(msg, FutureWarning)\n"
     ]
    },
    {
     "data": {
      "image/png": "[encoded data removed]",
      "text/plain": [
       "<Figure size 720x360 with 1 Axes>"
      ]
     },
     "metadata": {},
     "output_type": "display_data"
    }
   ],
   "source": [
    "plt.style.use('ggplot')\n",
    "plt.figure(figsize=(10, 5))\n",
    "plt.title('SkinThicknessDistribution')\n",
    "sns.distplot(data['SkinThickness'])\n",
    "plt.show()"
   ]
  },
  {
   "cell_type": "code",
   "execution_count": 15,
   "id": "79e397e8",
   "metadata": {
    "execution": {
     "iopub.execute_input": "2022-03-16T09:27:21.537433Z",
     "iopub.status.busy": "2022-03-16T09:27:21.534847Z",
     "iopub.status.idle": "2022-03-16T09:27:21.697125Z",
     "shell.execute_reply": "2022-03-16T09:27:21.696254Z",
     "shell.execute_reply.started": "2022-03-16T08:04:35.709716Z"
    },
    "id": "j07XJUDhhuYS",
    "outputId": "add8a0e2-aed7-425e-ff08-21f1c2be115e",
    "papermill": {
     "duration": 0.213314,
     "end_time": "2022-03-16T09:27:21.697271",
     "exception": false,
     "start_time": "2022-03-16T09:27:21.483957",
     "status": "completed"
    },
    "tags": []
   },
   "outputs": [
    {
     "name": "stderr",
     "output_type": "stream",
     "text": [
      "/opt/conda/lib/python3.7/site-packages/seaborn/_decorators.py:43: FutureWarning: Pass the following variable as a keyword arg: x. From version 0.12, the only valid positional argument will be `data`, and passing other arguments without an explicit keyword will result in an error or misinterpretation.\n",
      "  FutureWarning\n"
     ]
    },
    {
     "data": {
      "image/png": "[encoded data removed]",
      "text/plain": [
       "<Figure size 720x360 with 1 Axes>"
      ]
     },
     "metadata": {},
     "output_type": "display_data"
    }
   ],
   "source": [
    "plt.figure(figsize=(10, 5))\n",
    "sns.countplot(data['Outcome'])\n",
    "plt.title('Outcome Count')\n",
    "plt.show()"
   ]
  },
  {
   "cell_type": "code",
   "execution_count": 16,
   "id": "0bac66a5",
   "metadata": {
    "execution": {
     "iopub.execute_input": "2022-03-16T09:27:21.798199Z",
     "iopub.status.busy": "2022-03-16T09:27:21.797548Z",
     "iopub.status.idle": "2022-03-16T09:27:21.803816Z",
     "shell.execute_reply": "2022-03-16T09:27:21.803340Z",
     "shell.execute_reply.started": "2022-03-16T08:04:35.904687Z"
    },
    "id": "IA7sKJm7h8B_",
    "outputId": "9ff3b3ae-2e27-4d6c-e1ae-0133a82ef049",
    "papermill": {
     "duration": 0.058674,
     "end_time": "2022-03-16T09:27:21.803956",
     "exception": false,
     "start_time": "2022-03-16T09:27:21.745282",
     "status": "completed"
    },
    "tags": []
   },
   "outputs": [
    {
     "data": {
      "text/plain": [
       "Outcome                     1.000000\n",
       "Glucose                     0.466581\n",
       "BMI                         0.292695\n",
       "Age                         0.238356\n",
       "Pregnancies                 0.221898\n",
       "DiabetesPedigreeFunction    0.173844\n",
       "Insulin                     0.130548\n",
       "SkinThickness               0.074752\n",
       "BloodPressure               0.065068\n",
       "Name: Outcome, dtype: float64"
      ]
     },
     "execution_count": 16,
     "metadata": {},
     "output_type": "execute_result"
    }
   ],
   "source": [
    "corr = data.corr()\n",
    "corr['Outcome'].sort_values(ascending=False)"
   ]
  },
  {
   "cell_type": "code",
   "execution_count": 17,
   "id": "b50975ac",
   "metadata": {
    "execution": {
     "iopub.execute_input": "2022-03-16T09:27:21.902093Z",
     "iopub.status.busy": "2022-03-16T09:27:21.901487Z",
     "iopub.status.idle": "2022-03-16T09:27:22.506379Z",
     "shell.execute_reply": "2022-03-16T09:27:22.506876Z",
     "shell.execute_reply.started": "2022-03-16T08:04:35.918975Z"
    },
    "id": "SZAwnfcyiu56",
    "outputId": "b92bec68-1aff-4f32-edbd-5c4421dd1eb1",
    "papermill": {
     "duration": 0.655866,
     "end_time": "2022-03-16T09:27:22.507057",
     "exception": false,
     "start_time": "2022-03-16T09:27:21.851191",
     "status": "completed"
    },
    "tags": []
   },
   "outputs": [
    {
     "data": {
      "image/png": "[encoded data removed]",
      "text/plain": [
       "<Figure size 1080x720 with 2 Axes>"
      ]
     },
     "metadata": {},
     "output_type": "display_data"
    }
   ],
   "source": [
    "plt.figure(figsize=(15, 10))\n",
    "sns.heatmap(corr, annot=True, cmap='Blues')\n",
    "plt.show()"
   ]
  },
  {
   "cell_type": "markdown",
   "id": "ef6bb7ee",
   "metadata": {
    "id": "cUyGBP2Oi6Q8",
    "papermill": {
     "duration": 0.050136,
     "end_time": "2022-03-16T09:27:22.607373",
     "exception": false,
     "start_time": "2022-03-16T09:27:22.557237",
     "status": "completed"
    },
    "tags": []
   },
   "source": [
    "# ***Data Preprocessing***"
   ]
  },
  {
   "cell_type": "markdown",
   "id": "f774a3e4",
   "metadata": {
    "id": "rk61LTwrjasJ",
    "papermill": {
     "duration": 0.049694,
     "end_time": "2022-03-16T09:27:22.706282",
     "exception": false,
     "start_time": "2022-03-16T09:27:22.656588",
     "status": "completed"
    },
    "tags": []
   },
   "source": [
    "**Note**\n",
    "\n",
    "* We should not scale on target"
   ]
  },
  {
   "cell_type": "code",
   "execution_count": 18,
   "id": "c813fe86",
   "metadata": {
    "execution": {
     "iopub.execute_input": "2022-03-16T09:27:22.811953Z",
     "iopub.status.busy": "2022-03-16T09:27:22.811340Z",
     "iopub.status.idle": "2022-03-16T09:27:22.813631Z",
     "shell.execute_reply": "2022-03-16T09:27:22.813104Z",
     "shell.execute_reply.started": "2022-03-16T08:04:36.688671Z"
    },
    "id": "CGPvGwkWi1DR",
    "papermill": {
     "duration": 0.057579,
     "end_time": "2022-03-16T09:27:22.813759",
     "exception": false,
     "start_time": "2022-03-16T09:27:22.756180",
     "status": "completed"
    },
    "tags": []
   },
   "outputs": [],
   "source": [
    "target = data['Outcome']\n",
    "data.drop(columns='Outcome', axis=1, inplace=True)"
   ]
  },
  {
   "cell_type": "code",
   "execution_count": 19,
   "id": "d0fbadfc",
   "metadata": {
    "execution": {
     "iopub.execute_input": "2022-03-16T09:27:22.916201Z",
     "iopub.status.busy": "2022-03-16T09:27:22.915576Z",
     "iopub.status.idle": "2022-03-16T09:27:22.923207Z",
     "shell.execute_reply": "2022-03-16T09:27:22.923693Z",
     "shell.execute_reply.started": "2022-03-16T08:04:36.699551Z"
    },
    "id": "wLi4J2PrjN8U",
    "papermill": {
     "duration": 0.060252,
     "end_time": "2022-03-16T09:27:22.923886",
     "exception": false,
     "start_time": "2022-03-16T09:27:22.863634",
     "status": "completed"
    },
    "tags": []
   },
   "outputs": [],
   "source": [
    "scale = StandardScaler()\n",
    "newData = pd.DataFrame(scale.fit_transform(data), columns=data.columns)"
   ]
  },
  {
   "cell_type": "code",
   "execution_count": 20,
   "id": "a85b734c",
   "metadata": {
    "execution": {
     "iopub.execute_input": "2022-03-16T09:27:23.026384Z",
     "iopub.status.busy": "2022-03-16T09:27:23.025692Z",
     "iopub.status.idle": "2022-03-16T09:27:23.038394Z",
     "shell.execute_reply": "2022-03-16T09:27:23.038976Z",
     "shell.execute_reply.started": "2022-03-16T08:04:36.717026Z"
    },
    "id": "rpLM9__Sjqr9",
    "outputId": "9a8ca993-6225-46a4-8da7-fcd960bfdb22",
    "papermill": {
     "duration": 0.06598,
     "end_time": "2022-03-16T09:27:23.039174",
     "exception": false,
     "start_time": "2022-03-16T09:27:22.973194",
     "status": "completed"
    },
    "tags": []
   },
   "outputs": [
    {
     "data": {
      "text/html": [
       "<div>\n",
       "<style scoped>\n",
       "    .dataframe tbody tr th:only-of-type {\n",
       "        vertical-align: middle;\n",
       "    }\n",
       "\n",
       "    .dataframe tbody tr th {\n",
       "        vertical-align: top;\n",
       "    }\n",
       "\n",
       "    .dataframe thead th {\n",
       "        text-align: right;\n",
       "    }\n",
       "</style>\n",
       "<table border=\"1\" class=\"dataframe\">\n",
       "  <thead>\n",
       "    <tr style=\"text-align: right;\">\n",
       "      <th></th>\n",
       "      <th>Pregnancies</th>\n",
       "      <th>Glucose</th>\n",
       "      <th>BloodPressure</th>\n",
       "      <th>SkinThickness</th>\n",
       "      <th>Insulin</th>\n",
       "      <th>BMI</th>\n",
       "      <th>DiabetesPedigreeFunction</th>\n",
       "      <th>Age</th>\n",
       "    </tr>\n",
       "  </thead>\n",
       "  <tbody>\n",
       "    <tr>\n",
       "      <th>0</th>\n",
       "      <td>0.639947</td>\n",
       "      <td>0.848324</td>\n",
       "      <td>0.149641</td>\n",
       "      <td>0.907270</td>\n",
       "      <td>-0.692891</td>\n",
       "      <td>0.204013</td>\n",
       "      <td>0.468492</td>\n",
       "      <td>1.425995</td>\n",
       "    </tr>\n",
       "    <tr>\n",
       "      <th>1</th>\n",
       "      <td>-0.844885</td>\n",
       "      <td>-1.123396</td>\n",
       "      <td>-0.160546</td>\n",
       "      <td>0.530902</td>\n",
       "      <td>-0.692891</td>\n",
       "      <td>-0.684422</td>\n",
       "      <td>-0.365061</td>\n",
       "      <td>-0.190672</td>\n",
       "    </tr>\n",
       "    <tr>\n",
       "      <th>2</th>\n",
       "      <td>1.233880</td>\n",
       "      <td>1.943724</td>\n",
       "      <td>-0.263941</td>\n",
       "      <td>-1.288212</td>\n",
       "      <td>-0.692891</td>\n",
       "      <td>-1.103255</td>\n",
       "      <td>0.604397</td>\n",
       "      <td>-0.105584</td>\n",
       "    </tr>\n",
       "    <tr>\n",
       "      <th>3</th>\n",
       "      <td>-0.844885</td>\n",
       "      <td>-0.998208</td>\n",
       "      <td>-0.160546</td>\n",
       "      <td>0.154533</td>\n",
       "      <td>0.123302</td>\n",
       "      <td>-0.494043</td>\n",
       "      <td>-0.920763</td>\n",
       "      <td>-1.041549</td>\n",
       "    </tr>\n",
       "    <tr>\n",
       "      <th>4</th>\n",
       "      <td>-1.141852</td>\n",
       "      <td>0.504055</td>\n",
       "      <td>-1.504687</td>\n",
       "      <td>0.907270</td>\n",
       "      <td>0.765836</td>\n",
       "      <td>1.409746</td>\n",
       "      <td>5.484909</td>\n",
       "      <td>-0.020496</td>\n",
       "    </tr>\n",
       "  </tbody>\n",
       "</table>\n",
       "</div>"
      ],
      "text/plain": [
       "   Pregnancies   Glucose  BloodPressure  SkinThickness   Insulin       BMI  \\\n",
       "0     0.639947  0.848324       0.149641       0.907270 -0.692891  0.204013   \n",
       "1    -0.844885 -1.123396      -0.160546       0.530902 -0.692891 -0.684422   \n",
       "2     1.233880  1.943724      -0.263941      -1.288212 -0.692891 -1.103255   \n",
       "3    -0.844885 -0.998208      -0.160546       0.154533  0.123302 -0.494043   \n",
       "4    -1.141852  0.504055      -1.504687       0.907270  0.765836  1.409746   \n",
       "\n",
       "   DiabetesPedigreeFunction       Age  \n",
       "0                  0.468492  1.425995  \n",
       "1                 -0.365061 -0.190672  \n",
       "2                  0.604397 -0.105584  \n",
       "3                 -0.920763 -1.041549  \n",
       "4                  5.484909 -0.020496  "
      ]
     },
     "execution_count": 20,
     "metadata": {},
     "output_type": "execute_result"
    }
   ],
   "source": [
    "newData.head()"
   ]
  },
  {
   "cell_type": "code",
   "execution_count": 21,
   "id": "5f98f8b3",
   "metadata": {
    "execution": {
     "iopub.execute_input": "2022-03-16T09:27:23.146364Z",
     "iopub.status.busy": "2022-03-16T09:27:23.145390Z",
     "iopub.status.idle": "2022-03-16T09:27:23.151070Z",
     "shell.execute_reply": "2022-03-16T09:27:23.151469Z",
     "shell.execute_reply.started": "2022-03-16T08:04:36.744209Z"
    },
    "id": "v_1NCNVjjtjz",
    "outputId": "1994c34a-e5e7-4b41-db22-9f073c6be479",
    "papermill": {
     "duration": 0.060646,
     "end_time": "2022-03-16T09:27:23.151636",
     "exception": false,
     "start_time": "2022-03-16T09:27:23.090990",
     "status": "completed"
    },
    "tags": []
   },
   "outputs": [
    {
     "data": {
      "text/plain": [
       "0    1\n",
       "1    0\n",
       "2    1\n",
       "3    0\n",
       "4    1\n",
       "Name: Outcome, dtype: int64"
      ]
     },
     "execution_count": 21,
     "metadata": {},
     "output_type": "execute_result"
    }
   ],
   "source": [
    "target.head()"
   ]
  },
  {
   "cell_type": "markdown",
   "id": "ab61b565",
   "metadata": {
    "id": "o_dhobGXj1xW",
    "papermill": {
     "duration": 0.050523,
     "end_time": "2022-03-16T09:27:23.253784",
     "exception": false,
     "start_time": "2022-03-16T09:27:23.203261",
     "status": "completed"
    },
    "tags": []
   },
   "source": [
    "# ***Train Test Split***"
   ]
  },
  {
   "cell_type": "code",
   "execution_count": 22,
   "id": "e40d7039",
   "metadata": {
    "execution": {
     "iopub.execute_input": "2022-03-16T09:27:23.359257Z",
     "iopub.status.busy": "2022-03-16T09:27:23.358332Z",
     "iopub.status.idle": "2022-03-16T09:27:23.363755Z",
     "shell.execute_reply": "2022-03-16T09:27:23.364320Z",
     "shell.execute_reply.started": "2022-03-16T08:04:36.759824Z"
    },
    "id": "x1IvXRpkjvHT",
    "papermill": {
     "duration": 0.060064,
     "end_time": "2022-03-16T09:27:23.364499",
     "exception": false,
     "start_time": "2022-03-16T09:27:23.304435",
     "status": "completed"
    },
    "tags": []
   },
   "outputs": [],
   "source": [
    "xtrain, xtest, ytrain, ytest = train_test_split(newData, target, test_size=0.2, random_state=42)"
   ]
  },
  {
   "cell_type": "markdown",
   "id": "05008534",
   "metadata": {
    "id": "w4kwJlQxkmCS",
    "papermill": {
     "duration": 0.050686,
     "end_time": "2022-03-16T09:27:23.465961",
     "exception": false,
     "start_time": "2022-03-16T09:27:23.415275",
     "status": "completed"
    },
    "tags": []
   },
   "source": [
    "# ***Model Training***"
   ]
  },
  {
   "cell_type": "markdown",
   "id": "d9075678",
   "metadata": {
    "id": "v-SsYK-hkqDc",
    "papermill": {
     "duration": 0.053241,
     "end_time": "2022-03-16T09:27:23.569908",
     "exception": false,
     "start_time": "2022-03-16T09:27:23.516667",
     "status": "completed"
    },
    "tags": []
   },
   "source": [
    "***Support Vector Machine***"
   ]
  },
  {
   "cell_type": "code",
   "execution_count": 23,
   "id": "07effa3c",
   "metadata": {
    "execution": {
     "iopub.execute_input": "2022-03-16T09:27:23.679278Z",
     "iopub.status.busy": "2022-03-16T09:27:23.678640Z",
     "iopub.status.idle": "2022-03-16T09:27:26.288465Z",
     "shell.execute_reply": "2022-03-16T09:27:26.287976Z",
     "shell.execute_reply.started": "2022-03-16T08:04:36.773061Z"
    },
    "id": "w_kFwIPDkWXX",
    "outputId": "31d0faa1-8d24-4b34-b4b4-aa4748818435",
    "papermill": {
     "duration": 2.666135,
     "end_time": "2022-03-16T09:27:26.288605",
     "exception": false,
     "start_time": "2022-03-16T09:27:23.622470",
     "status": "completed"
    },
    "tags": []
   },
   "outputs": [
    {
     "data": {
      "text/plain": [
       "GridSearchCV(cv=5, estimator=SVC(),\n",
       "             param_grid={'C': [1, 2, 3, 4, 5, 6, 7, 8, 9],\n",
       "                         'kernel': ['rbf', 'linear', 'poly']},\n",
       "             scoring='neg_mean_squared_error')"
      ]
     },
     "execution_count": 23,
     "metadata": {},
     "output_type": "execute_result"
    }
   ],
   "source": [
    "svc = SVC()\n",
    "\n",
    "param = {\n",
    "    'C': [i for i in range(1, 10)],\n",
    "    'kernel': ['rbf', 'linear', 'poly']}\n",
    "\n",
    "grid = GridSearchCV(svc, param, cv=5, scoring='neg_mean_squared_error')\n",
    "grid.fit(xtrain, ytrain)"
   ]
  },
  {
   "cell_type": "code",
   "execution_count": 24,
   "id": "8ef29b73",
   "metadata": {
    "execution": {
     "iopub.execute_input": "2022-03-16T09:27:26.393954Z",
     "iopub.status.busy": "2022-03-16T09:27:26.393305Z",
     "iopub.status.idle": "2022-03-16T09:27:26.411700Z",
     "shell.execute_reply": "2022-03-16T09:27:26.412290Z",
     "shell.execute_reply.started": "2022-03-16T08:04:39.690366Z"
    },
    "id": "TLnr51hNkXWX",
    "outputId": "663f1414-5787-4fd7-df7b-97354e6c421c",
    "papermill": {
     "duration": 0.073227,
     "end_time": "2022-03-16T09:27:26.412454",
     "exception": false,
     "start_time": "2022-03-16T09:27:26.339227",
     "status": "completed"
    },
    "tags": []
   },
   "outputs": [
    {
     "data": {
      "text/plain": [
       "SVC(C=2)"
      ]
     },
     "execution_count": 24,
     "metadata": {},
     "output_type": "execute_result"
    }
   ],
   "source": [
    "SvcModel = grid.best_estimator_\n",
    "SvcModel.fit(xtrain, ytrain)"
   ]
  },
  {
   "cell_type": "code",
   "execution_count": 25,
   "id": "d84ed021",
   "metadata": {
    "execution": {
     "iopub.execute_input": "2022-03-16T09:27:26.517683Z",
     "iopub.status.busy": "2022-03-16T09:27:26.517061Z",
     "iopub.status.idle": "2022-03-16T09:27:26.623570Z",
     "shell.execute_reply": "2022-03-16T09:27:26.624087Z",
     "shell.execute_reply.started": "2022-03-16T08:04:39.717325Z"
    },
    "id": "NeoCRINlkXgF",
    "papermill": {
     "duration": 0.161058,
     "end_time": "2022-03-16T09:27:26.624254",
     "exception": false,
     "start_time": "2022-03-16T09:27:26.463196",
     "status": "completed"
    },
    "tags": []
   },
   "outputs": [],
   "source": [
    "svc_cv = cross_val_score(SvcModel, newData, target, cv=5)"
   ]
  },
  {
   "cell_type": "code",
   "execution_count": 26,
   "id": "c152b493",
   "metadata": {
    "execution": {
     "iopub.execute_input": "2022-03-16T09:27:26.728403Z",
     "iopub.status.busy": "2022-03-16T09:27:26.727855Z",
     "iopub.status.idle": "2022-03-16T09:27:26.733545Z",
     "shell.execute_reply": "2022-03-16T09:27:26.734243Z",
     "shell.execute_reply.started": "2022-03-16T08:04:39.838786Z"
    },
    "id": "xLzL472hlfiJ",
    "outputId": "336eda02-6ab0-40e1-ab91-87ec2cca2a11",
    "papermill": {
     "duration": 0.059555,
     "end_time": "2022-03-16T09:27:26.734462",
     "exception": false,
     "start_time": "2022-03-16T09:27:26.674907",
     "status": "completed"
    },
    "tags": []
   },
   "outputs": [
    {
     "name": "stdout",
     "output_type": "stream",
     "text": [
      "Scores:  [0.75974026 0.76623377 0.75324675 0.80392157 0.78431373]\n",
      "Mean:  0.7734912146676851\n"
     ]
    }
   ],
   "source": [
    "print('Scores: ', svc_cv)\n",
    "print('Mean: ', np.mean(svc_cv))"
   ]
  },
  {
   "cell_type": "markdown",
   "id": "cd2225a6",
   "metadata": {
    "id": "S_Hzh7kElpOt",
    "papermill": {
     "duration": 0.050663,
     "end_time": "2022-03-16T09:27:26.837304",
     "exception": false,
     "start_time": "2022-03-16T09:27:26.786641",
     "status": "completed"
    },
    "tags": []
   },
   "source": [
    "***RandomForestClassifier***"
   ]
  },
  {
   "cell_type": "code",
   "execution_count": 27,
   "id": "f2597aee",
   "metadata": {
    "execution": {
     "iopub.execute_input": "2022-03-16T09:27:26.946329Z",
     "iopub.status.busy": "2022-03-16T09:27:26.945364Z",
     "iopub.status.idle": "2022-03-16T09:28:03.909446Z",
     "shell.execute_reply": "2022-03-16T09:28:03.909952Z",
     "shell.execute_reply.started": "2022-03-16T08:04:39.846396Z"
    },
    "id": "9n58aV_tljYD",
    "outputId": "57a48180-e346-46a0-d262-9c5bc9ae242e",
    "papermill": {
     "duration": 37.021831,
     "end_time": "2022-03-16T09:28:03.910140",
     "exception": false,
     "start_time": "2022-03-16T09:27:26.888309",
     "status": "completed"
    },
    "tags": []
   },
   "outputs": [
    {
     "data": {
      "text/plain": [
       "GridSearchCV(cv=5, estimator=RandomForestClassifier(),\n",
       "             param_grid={'criterion': ['gini', 'entropy'],\n",
       "                         'n_estimators': [100, 200, 300, 400, 500, 600]},\n",
       "             scoring='neg_mean_squared_error')"
      ]
     },
     "execution_count": 27,
     "metadata": {},
     "output_type": "execute_result"
    }
   ],
   "source": [
    "random = RandomForestClassifier()\n",
    "\n",
    "parameters = {\n",
    "    'n_estimators': [100, 200, 300, 400, 500, 600],\n",
    "    'criterion': ['gini', 'entropy']}\n",
    "    \n",
    "gridSearch = GridSearchCV(random, parameters, cv=5, scoring='neg_mean_squared_error')\n",
    "gridSearch.fit(xtrain, ytrain)"
   ]
  },
  {
   "cell_type": "code",
   "execution_count": 28,
   "id": "3fbab12c",
   "metadata": {
    "execution": {
     "iopub.execute_input": "2022-03-16T09:28:04.017405Z",
     "iopub.status.busy": "2022-03-16T09:28:04.016819Z",
     "iopub.status.idle": "2022-03-16T09:28:05.026052Z",
     "shell.execute_reply": "2022-03-16T09:28:05.025268Z",
     "shell.execute_reply.started": "2022-03-16T08:05:31.069284Z"
    },
    "id": "w8LPlQWAlvSs",
    "outputId": "1dd214ec-c258-4b02-df63-285237270fd4",
    "papermill": {
     "duration": 1.063743,
     "end_time": "2022-03-16T09:28:05.026214",
     "exception": false,
     "start_time": "2022-03-16T09:28:03.962471",
     "status": "completed"
    },
    "tags": []
   },
   "outputs": [
    {
     "data": {
      "text/plain": [
       "RandomForestClassifier(n_estimators=600)"
      ]
     },
     "execution_count": 28,
     "metadata": {},
     "output_type": "execute_result"
    }
   ],
   "source": [
    "RandomForestModel = gridSearch.best_estimator_\n",
    "RandomForestModel.fit(xtrain, ytrain)"
   ]
  },
  {
   "cell_type": "code",
   "execution_count": 29,
   "id": "36f3a1d2",
   "metadata": {
    "execution": {
     "iopub.execute_input": "2022-03-16T09:28:05.137331Z",
     "iopub.status.busy": "2022-03-16T09:28:05.136369Z",
     "iopub.status.idle": "2022-03-16T09:28:10.450154Z",
     "shell.execute_reply": "2022-03-16T09:28:10.450635Z",
     "shell.execute_reply.started": "2022-03-16T08:05:31.591263Z"
    },
    "id": "iKodh0FjlyNq",
    "papermill": {
     "duration": 5.371551,
     "end_time": "2022-03-16T09:28:10.450815",
     "exception": false,
     "start_time": "2022-03-16T09:28:05.079264",
     "status": "completed"
    },
    "tags": []
   },
   "outputs": [],
   "source": [
    "random_cv = cross_val_score(RandomForestModel, newData, target, cv=5)"
   ]
  },
  {
   "cell_type": "code",
   "execution_count": 30,
   "id": "275c74b1",
   "metadata": {
    "execution": {
     "iopub.execute_input": "2022-03-16T09:28:10.557373Z",
     "iopub.status.busy": "2022-03-16T09:28:10.556478Z",
     "iopub.status.idle": "2022-03-16T09:28:10.562147Z",
     "shell.execute_reply": "2022-03-16T09:28:10.562640Z",
     "shell.execute_reply.started": "2022-03-16T08:05:34.244706Z"
    },
    "id": "UP2exKP8l4mR",
    "outputId": "5f7482bd-6021-42ad-cbe6-61aab28ed269",
    "papermill": {
     "duration": 0.060414,
     "end_time": "2022-03-16T09:28:10.562862",
     "exception": false,
     "start_time": "2022-03-16T09:28:10.502448",
     "status": "completed"
    },
    "tags": []
   },
   "outputs": [
    {
     "name": "stdout",
     "output_type": "stream",
     "text": [
      "Scores:  [0.75324675 0.71428571 0.77922078 0.83660131 0.77777778]\n",
      "Mean:  0.7722264663441135\n"
     ]
    }
   ],
   "source": [
    "print('Scores: ', random_cv)\n",
    "print('Mean: ', np.mean(random_cv))"
   ]
  },
  {
   "cell_type": "markdown",
   "id": "0e7e3020",
   "metadata": {
    "id": "GHmSukbvmKfF",
    "papermill": {
     "duration": 0.051643,
     "end_time": "2022-03-16T09:28:10.666872",
     "exception": false,
     "start_time": "2022-03-16T09:28:10.615229",
     "status": "completed"
    },
    "tags": []
   },
   "source": [
    "***GradientBoostingClassifier***"
   ]
  },
  {
   "cell_type": "code",
   "execution_count": 31,
   "id": "4145ceec",
   "metadata": {
    "execution": {
     "iopub.execute_input": "2022-03-16T09:28:10.781191Z",
     "iopub.status.busy": "2022-03-16T09:28:10.780488Z",
     "iopub.status.idle": "2022-03-16T09:28:10.921238Z",
     "shell.execute_reply": "2022-03-16T09:28:10.921641Z",
     "shell.execute_reply.started": "2022-03-16T08:05:34.25501Z"
    },
    "id": "izsr1G2wmI1b",
    "outputId": "378ac1a4-2ba5-44b0-dedb-be4673f4df1d",
    "papermill": {
     "duration": 0.201314,
     "end_time": "2022-03-16T09:28:10.921825",
     "exception": false,
     "start_time": "2022-03-16T09:28:10.720511",
     "status": "completed"
    },
    "tags": []
   },
   "outputs": [
    {
     "data": {
      "text/plain": [
       "GradientBoostingClassifier()"
      ]
     },
     "execution_count": 31,
     "metadata": {},
     "output_type": "execute_result"
    }
   ],
   "source": [
    "GradientModel = GradientBoostingClassifier()\n",
    "GradientModel.fit(xtrain, ytrain)"
   ]
  },
  {
   "cell_type": "code",
   "execution_count": 32,
   "id": "2a805604",
   "metadata": {
    "execution": {
     "iopub.execute_input": "2022-03-16T09:28:11.031413Z",
     "iopub.status.busy": "2022-03-16T09:28:11.030705Z",
     "iopub.status.idle": "2022-03-16T09:28:11.718470Z",
     "shell.execute_reply": "2022-03-16T09:28:11.718932Z",
     "shell.execute_reply.started": "2022-03-16T08:05:34.433995Z"
    },
    "id": "U7B2jlOUmWJn",
    "papermill": {
     "duration": 0.745299,
     "end_time": "2022-03-16T09:28:11.719117",
     "exception": false,
     "start_time": "2022-03-16T09:28:10.973818",
     "status": "completed"
    },
    "tags": []
   },
   "outputs": [],
   "source": [
    "gradient_cv = cross_val_score(GradientModel, newData, target, cv=5)"
   ]
  },
  {
   "cell_type": "code",
   "execution_count": 33,
   "id": "fb5bd2e6",
   "metadata": {
    "execution": {
     "iopub.execute_input": "2022-03-16T09:28:11.828896Z",
     "iopub.status.busy": "2022-03-16T09:28:11.828277Z",
     "iopub.status.idle": "2022-03-16T09:28:11.832393Z",
     "shell.execute_reply": "2022-03-16T09:28:11.832771Z",
     "shell.execute_reply.started": "2022-03-16T08:05:35.280693Z"
    },
    "id": "o5k9fLy_mdfc",
    "outputId": "3b7365cf-3a61-4dbd-c8f0-aef449bafb10",
    "papermill": {
     "duration": 0.060964,
     "end_time": "2022-03-16T09:28:11.832969",
     "exception": false,
     "start_time": "2022-03-16T09:28:11.772005",
     "status": "completed"
    },
    "tags": []
   },
   "outputs": [
    {
     "name": "stdout",
     "output_type": "stream",
     "text": [
      "Scores:  [0.78571429 0.72077922 0.72077922 0.81045752 0.75163399]\n",
      "Mean:  0.7578728461081402\n"
     ]
    }
   ],
   "source": [
    "print('Scores: ', gradient_cv)\n",
    "print('Mean: ', np.mean(gradient_cv))"
   ]
  },
  {
   "cell_type": "markdown",
   "id": "1f46a9ae",
   "metadata": {
    "id": "d8l9Lb6snFZ6",
    "papermill": {
     "duration": 0.051934,
     "end_time": "2022-03-16T09:28:11.937575",
     "exception": false,
     "start_time": "2022-03-16T09:28:11.885641",
     "status": "completed"
    },
    "tags": []
   },
   "source": [
    "***XGBClassifier***"
   ]
  },
  {
   "cell_type": "code",
   "execution_count": 34,
   "id": "b7d0be5b",
   "metadata": {
    "execution": {
     "iopub.execute_input": "2022-03-16T09:28:12.047125Z",
     "iopub.status.busy": "2022-03-16T09:28:12.046486Z",
     "iopub.status.idle": "2022-03-16T09:28:12.362992Z",
     "shell.execute_reply": "2022-03-16T09:28:12.363400Z",
     "shell.execute_reply.started": "2022-03-16T08:05:35.289952Z"
    },
    "id": "9bbWDDMBmgvA",
    "outputId": "cd759240-56dd-434d-adbe-9fbc797d65c8",
    "papermill": {
     "duration": 0.373997,
     "end_time": "2022-03-16T09:28:12.363575",
     "exception": false,
     "start_time": "2022-03-16T09:28:11.989578",
     "status": "completed"
    },
    "tags": []
   },
   "outputs": [
    {
     "name": "stderr",
     "output_type": "stream",
     "text": [
      "/opt/conda/lib/python3.7/site-packages/xgboost/sklearn.py:1224: UserWarning: The use of label encoder in XGBClassifier is deprecated and will be removed in a future release. To remove this warning, do the following: 1) Pass option use_label_encoder=False when constructing XGBClassifier object; and 2) Encode your labels (y) as integers starting with 0, i.e. 0, 1, 2, ..., [num_class - 1].\n",
      "  warnings.warn(label_encoder_deprecation_msg, UserWarning)\n"
     ]
    },
    {
     "name": "stdout",
     "output_type": "stream",
     "text": [
      "[09:28:12] WARNING: ../src/learner.cc:1115: Starting in XGBoost 1.3.0, the default evaluation metric used with the objective 'binary:logistic' was changed from 'error' to 'logloss'. Explicitly set eval_metric if you'd like to restore the old behavior.\n"
     ]
    },
    {
     "data": {
      "text/plain": [
       "XGBClassifier(base_score=0.5, booster='gbtree', colsample_bylevel=1,\n",
       "              colsample_bynode=1, colsample_bytree=1, enable_categorical=False,\n",
       "              gamma=0, gpu_id=-1, importance_type=None,\n",
       "              interaction_constraints='', learning_rate=0.300000012,\n",
       "              max_delta_step=0, max_depth=6, min_child_weight=1, missing=nan,\n",
       "              monotone_constraints='()', n_estimators=100, n_jobs=4,\n",
       "              num_parallel_tree=1, predictor='auto', random_state=0,\n",
       "              reg_alpha=0, reg_lambda=1, scale_pos_weight=1, subsample=1,\n",
       "              tree_method='exact', validate_parameters=1, verbosity=None)"
      ]
     },
     "execution_count": 34,
     "metadata": {},
     "output_type": "execute_result"
    }
   ],
   "source": [
    "XGBModel = XGBClassifier()\n",
    "XGBModel.fit(xtrain, ytrain)"
   ]
  },
  {
   "cell_type": "code",
   "execution_count": 35,
   "id": "6ad803e8",
   "metadata": {
    "execution": {
     "iopub.execute_input": "2022-03-16T09:28:12.486309Z",
     "iopub.status.busy": "2022-03-16T09:28:12.485351Z",
     "iopub.status.idle": "2022-03-16T09:28:14.035560Z",
     "shell.execute_reply": "2022-03-16T09:28:14.036145Z",
     "shell.execute_reply.started": "2022-03-16T08:05:35.700617Z"
    },
    "id": "VwgdY3CdnLqd",
    "papermill": {
     "duration": 1.618394,
     "end_time": "2022-03-16T09:28:14.036343",
     "exception": false,
     "start_time": "2022-03-16T09:28:12.417949",
     "status": "completed"
    },
    "tags": []
   },
   "outputs": [
    {
     "name": "stderr",
     "output_type": "stream",
     "text": [
      "/opt/conda/lib/python3.7/site-packages/xgboost/sklearn.py:1224: UserWarning: The use of label encoder in XGBClassifier is deprecated and will be removed in a future release. To remove this warning, do the following: 1) Pass option use_label_encoder=False when constructing XGBClassifier object; and 2) Encode your labels (y) as integers starting with 0, i.e. 0, 1, 2, ..., [num_class - 1].\n",
      "  warnings.warn(label_encoder_deprecation_msg, UserWarning)\n"
     ]
    },
    {
     "name": "stdout",
     "output_type": "stream",
     "text": [
      "[09:28:12] WARNING: ../src/learner.cc:1115: Starting in XGBoost 1.3.0, the default evaluation metric used with the objective 'binary:logistic' was changed from 'error' to 'logloss'. Explicitly set eval_metric if you'd like to restore the old behavior.\n"
     ]
    },
    {
     "name": "stderr",
     "output_type": "stream",
     "text": [
      "/opt/conda/lib/python3.7/site-packages/xgboost/sklearn.py:1224: UserWarning: The use of label encoder in XGBClassifier is deprecated and will be removed in a future release. To remove this warning, do the following: 1) Pass option use_label_encoder=False when constructing XGBClassifier object; and 2) Encode your labels (y) as integers starting with 0, i.e. 0, 1, 2, ..., [num_class - 1].\n",
      "  warnings.warn(label_encoder_deprecation_msg, UserWarning)\n"
     ]
    },
    {
     "name": "stdout",
     "output_type": "stream",
     "text": [
      "[09:28:12] WARNING: ../src/learner.cc:1115: Starting in XGBoost 1.3.0, the default evaluation metric used with the objective 'binary:logistic' was changed from 'error' to 'logloss'. Explicitly set eval_metric if you'd like to restore the old behavior.\n"
     ]
    },
    {
     "name": "stderr",
     "output_type": "stream",
     "text": [
      "/opt/conda/lib/python3.7/site-packages/xgboost/sklearn.py:1224: UserWarning: The use of label encoder in XGBClassifier is deprecated and will be removed in a future release. To remove this warning, do the following: 1) Pass option use_label_encoder=False when constructing XGBClassifier object; and 2) Encode your labels (y) as integers starting with 0, i.e. 0, 1, 2, ..., [num_class - 1].\n",
      "  warnings.warn(label_encoder_deprecation_msg, UserWarning)\n"
     ]
    },
    {
     "name": "stdout",
     "output_type": "stream",
     "text": [
      "[09:28:13] WARNING: ../src/learner.cc:1115: Starting in XGBoost 1.3.0, the default evaluation metric used with the objective 'binary:logistic' was changed from 'error' to 'logloss'. Explicitly set eval_metric if you'd like to restore the old behavior.\n"
     ]
    },
    {
     "name": "stderr",
     "output_type": "stream",
     "text": [
      "/opt/conda/lib/python3.7/site-packages/xgboost/sklearn.py:1224: UserWarning: The use of label encoder in XGBClassifier is deprecated and will be removed in a future release. To remove this warning, do the following: 1) Pass option use_label_encoder=False when constructing XGBClassifier object; and 2) Encode your labels (y) as integers starting with 0, i.e. 0, 1, 2, ..., [num_class - 1].\n",
      "  warnings.warn(label_encoder_deprecation_msg, UserWarning)\n"
     ]
    },
    {
     "name": "stdout",
     "output_type": "stream",
     "text": [
      "[09:28:13] WARNING: ../src/learner.cc:1115: Starting in XGBoost 1.3.0, the default evaluation metric used with the objective 'binary:logistic' was changed from 'error' to 'logloss'. Explicitly set eval_metric if you'd like to restore the old behavior.\n"
     ]
    },
    {
     "name": "stderr",
     "output_type": "stream",
     "text": [
      "/opt/conda/lib/python3.7/site-packages/xgboost/sklearn.py:1224: UserWarning: The use of label encoder in XGBClassifier is deprecated and will be removed in a future release. To remove this warning, do the following: 1) Pass option use_label_encoder=False when constructing XGBClassifier object; and 2) Encode your labels (y) as integers starting with 0, i.e. 0, 1, 2, ..., [num_class - 1].\n",
      "  warnings.warn(label_encoder_deprecation_msg, UserWarning)\n"
     ]
    },
    {
     "name": "stdout",
     "output_type": "stream",
     "text": [
      "[09:28:13] WARNING: ../src/learner.cc:1115: Starting in XGBoost 1.3.0, the default evaluation metric used with the objective 'binary:logistic' was changed from 'error' to 'logloss'. Explicitly set eval_metric if you'd like to restore the old behavior.\n"
     ]
    }
   ],
   "source": [
    "xgb_cv = cross_val_score(XGBModel, newData, target, cv=5)"
   ]
  },
  {
   "cell_type": "code",
   "execution_count": 36,
   "id": "6873ee5e",
   "metadata": {
    "execution": {
     "iopub.execute_input": "2022-03-16T09:28:14.157017Z",
     "iopub.status.busy": "2022-03-16T09:28:14.156124Z",
     "iopub.status.idle": "2022-03-16T09:28:14.159334Z",
     "shell.execute_reply": "2022-03-16T09:28:14.158765Z",
     "shell.execute_reply.started": "2022-03-16T08:05:37.691068Z"
    },
    "id": "av1gxhednPJB",
    "outputId": "b1addfba-96aa-480d-89ac-259fc538888e",
    "papermill": {
     "duration": 0.064689,
     "end_time": "2022-03-16T09:28:14.159475",
     "exception": false,
     "start_time": "2022-03-16T09:28:14.094786",
     "status": "completed"
    },
    "tags": []
   },
   "outputs": [
    {
     "name": "stdout",
     "output_type": "stream",
     "text": [
      "Scores:  [0.73376623 0.74675325 0.73376623 0.78431373 0.75816993]\n",
      "Mean:  0.7513538748832865\n"
     ]
    }
   ],
   "source": [
    "print('Scores: ', xgb_cv)\n",
    "print('Mean: ', np.mean(xgb_cv))"
   ]
  },
  {
   "cell_type": "markdown",
   "id": "48ff82da",
   "metadata": {
    "id": "NF7__9t2nUxp",
    "papermill": {
     "duration": 0.056258,
     "end_time": "2022-03-16T09:28:14.272737",
     "exception": false,
     "start_time": "2022-03-16T09:28:14.216479",
     "status": "completed"
    },
    "tags": []
   },
   "source": [
    "# ***Evaluation Models***"
   ]
  },
  {
   "cell_type": "code",
   "execution_count": 37,
   "id": "e16c11d2",
   "metadata": {
    "execution": {
     "iopub.execute_input": "2022-03-16T09:28:14.389653Z",
     "iopub.status.busy": "2022-03-16T09:28:14.389059Z",
     "iopub.status.idle": "2022-03-16T09:28:14.393523Z",
     "shell.execute_reply": "2022-03-16T09:28:14.393982Z",
     "shell.execute_reply.started": "2022-03-16T08:05:37.700713Z"
    },
    "id": "cPBJMST0nRwc",
    "papermill": {
     "duration": 0.064368,
     "end_time": "2022-03-16T09:28:14.394141",
     "exception": false,
     "start_time": "2022-03-16T09:28:14.329773",
     "status": "completed"
    },
    "tags": []
   },
   "outputs": [],
   "source": [
    "def Main(modelName, model, cv):\n",
    "  print(f'============ {modelName} ============')\n",
    "  print('Model training error ---> ', np.mean(cv))\n",
    "  print('َAccuracy ---> ', accuracy_score(ytest, model.predict(xtest)))\n",
    "  print('ConfusionMatix: \\n')\n",
    "  print(confusion_matrix(ytest, model.predict(xtest)))\n",
    "  print()\n",
    "  print(classification_report(ytest, model.predict(xtest)))\n",
    "  print()"
   ]
  },
  {
   "cell_type": "code",
   "execution_count": 38,
   "id": "22341c8c",
   "metadata": {
    "execution": {
     "iopub.execute_input": "2022-03-16T09:28:14.510649Z",
     "iopub.status.busy": "2022-03-16T09:28:14.510094Z",
     "iopub.status.idle": "2022-03-16T09:28:14.785600Z",
     "shell.execute_reply": "2022-03-16T09:28:14.786111Z",
     "shell.execute_reply.started": "2022-03-16T08:05:37.713334Z"
    },
    "id": "SfETtAw-nuWI",
    "outputId": "768b7eb3-77d3-4c63-d4ee-a62fe732225e",
    "papermill": {
     "duration": 0.335346,
     "end_time": "2022-03-16T09:28:14.786295",
     "exception": false,
     "start_time": "2022-03-16T09:28:14.450949",
     "status": "completed"
    },
    "tags": []
   },
   "outputs": [
    {
     "name": "stdout",
     "output_type": "stream",
     "text": [
      "============ SupportVectorMachine ============\n",
      "Model training error --->  0.7734912146676851\n",
      "َAccuracy --->  0.7207792207792207\n",
      "ConfusionMatix: \n",
      "\n",
      "[[81 18]\n",
      " [25 30]]\n",
      "\n",
      "              precision    recall  f1-score   support\n",
      "\n",
      "           0       0.76      0.82      0.79        99\n",
      "           1       0.62      0.55      0.58        55\n",
      "\n",
      "    accuracy                           0.72       154\n",
      "   macro avg       0.69      0.68      0.69       154\n",
      "weighted avg       0.71      0.72      0.72       154\n",
      "\n",
      "\n",
      "============ RandomForestClassifier ============\n",
      "Model training error --->  0.7722264663441135\n",
      "َAccuracy --->  0.7467532467532467\n",
      "ConfusionMatix: \n",
      "\n",
      "[[79 20]\n",
      " [19 36]]\n",
      "\n",
      "              precision    recall  f1-score   support\n",
      "\n",
      "           0       0.81      0.80      0.80        99\n",
      "           1       0.64      0.65      0.65        55\n",
      "\n",
      "    accuracy                           0.75       154\n",
      "   macro avg       0.72      0.73      0.73       154\n",
      "weighted avg       0.75      0.75      0.75       154\n",
      "\n",
      "\n",
      "============ GradientBoostingClassifier ============\n",
      "Model training error --->  0.7578728461081402\n",
      "َAccuracy --->  0.7402597402597403\n",
      "ConfusionMatix: \n",
      "\n",
      "[[77 22]\n",
      " [18 37]]\n",
      "\n",
      "              precision    recall  f1-score   support\n",
      "\n",
      "           0       0.81      0.78      0.79        99\n",
      "           1       0.63      0.67      0.65        55\n",
      "\n",
      "    accuracy                           0.74       154\n",
      "   macro avg       0.72      0.73      0.72       154\n",
      "weighted avg       0.75      0.74      0.74       154\n",
      "\n",
      "\n",
      "============ XGBClassifier ============\n",
      "Model training error --->  0.7513538748832865\n",
      "َAccuracy --->  0.6883116883116883\n",
      "ConfusionMatix: \n",
      "\n",
      "[[70 29]\n",
      " [19 36]]\n",
      "\n",
      "              precision    recall  f1-score   support\n",
      "\n",
      "           0       0.79      0.71      0.74        99\n",
      "           1       0.55      0.65      0.60        55\n",
      "\n",
      "    accuracy                           0.69       154\n",
      "   macro avg       0.67      0.68      0.67       154\n",
      "weighted avg       0.70      0.69      0.69       154\n",
      "\n",
      "\n"
     ]
    }
   ],
   "source": [
    "Main('SupportVectorMachine', SvcModel, svc_cv)\n",
    "Main('RandomForestClassifier', RandomForestModel, random_cv)\n",
    "Main('GradientBoostingClassifier', GradientModel, gradient_cv)\n",
    "Main('XGBClassifier', XGBModel, xgb_cv)"
   ]
  }
 ],
 "metadata": {
  "kernelspec": {
   "display_name": "Python 3",
   "language": "python",
   "name": "python3"
  },
  "language_info": {
   "codemirror_mode": {
    "name": "ipython",
    "version": 3
   },
   "file_extension": ".py",
   "mimetype": "text/x-python",
   "name": "python",
   "nbconvert_exporter": "python",
   "pygments_lexer": "ipython3",
   "version": "3.7.12"
  },
  "papermill": {
   "default_parameters": {},
   "duration": 68.101855,
   "end_time": "2022-03-16T09:28:15.554350",
   "environment_variables": {},
   "exception": null,
   "input_path": "__notebook__.ipynb",
   "output_path": "__notebook__.ipynb",
   "parameters": {},
   "start_time": "2022-03-16T09:27:07.452495",
   "version": "2.3.3"
  }
 },
 "nbformat": 4,
 "nbformat_minor": 5
}
